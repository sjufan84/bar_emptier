{
 "cells": [
  {
   "cell_type": "code",
   "execution_count": 1,
   "id": "24e6a24f-68d4-4592-b567-f3c3b99eb609",
   "metadata": {},
   "outputs": [],
   "source": [
    "import pandas as pd\n",
    "from langchain.prompts import PromptTemplate\n",
    "from dotenv import load_dotenv\n",
    "load_dotenv()\n",
    "import os\n",
    "import openai"
   ]
  },
  {
   "cell_type": "code",
   "execution_count": 2,
   "id": "aefd8432-cfbd-4048-8191-8610253806d5",
   "metadata": {},
   "outputs": [],
   "source": [
    "# Get the openai api keys\n",
    "# Get the OpenAI API key and org key from the .env file\n",
    "openai.api_key = os.getenv(\"OPENAI_API_KEY\")\n",
    "openai.organization = os.getenv(\"OPENAI_ORG\")"
   ]
  },
  {
   "cell_type": "code",
   "execution_count": 3,
   "id": "d24b8976",
   "metadata": {},
   "outputs": [],
   "source": [
    "from langchain.chat_models import ChatOpenAI\n",
    "from langchain.prompts.chat import (ChatPromptTemplate, HumanMessagePromptTemplate)\n",
    "\n",
    "human_message_prompt = HumanMessagePromptTemplate(prompt = PromptTemplate(input_variables=[\"liquor\", \"cocktail_type\", \"cuisine\", \"theme\", \"spirits_and_amounts\"],\\\n",
    "                         template = \"Given the following parameters: the name of the liquor {liquor} I am trying to use up, the {spirits_and_amounts} that I have in my inventory,\\\n",
    "                              the type of cocktail {cocktail_type}, the type of cuisine {cuisine} I am looking to pair it with, and the theme {theme},\\\n",
    "                                please help me come up with a creative cocktail with a fun and creative name that doesn't\\\n",
    "                                necessarily include the name of the spirit or the theme.  If you can use the spirits in my inventory in spirits_and_amounts that would be great,\\\n",
    "                                      but if not feel free to use any spirits you think would make a good cocktail with my given parameters  Please be as specific as possible with your instructions.\\\n",
    "                                    \\n\\nRecipe Name: \\n\\nIngredients: \\n\\nInstructions: \\n\\n\")\n",
    ")\n",
    "\n",
    "chat_prompt_template = ChatPromptTemplate.from_messages([human_message_prompt])\n",
    "chat = ChatOpenAI(model_name = \"gpt-3.5-turbo\", max_tokens = 1500, temperature = 0.7, top_p = 0.9, frequency_penalty = 0.5, presence_penalty = 0.5,\\\n",
    "            openai_api_key = openai.api_key, openai_organization =  openai.organization)"
   ]
  },
  {
   "cell_type": "markdown",
   "id": "f86e5f85",
   "metadata": {},
   "source": []
  },
  {
   "cell_type": "code",
   "execution_count": 4,
   "id": "e6dabff7-8e98-4150-b99e-84422d4e58a8",
   "metadata": {},
   "outputs": [],
   "source": [
    "from langchain.chains import LLMChain\n",
    "chain = LLMChain(llm = chat, prompt = chat_prompt_template)\n"
   ]
  },
  {
   "cell_type": "code",
   "execution_count": 6,
   "id": "3f224e41",
   "metadata": {},
   "outputs": [],
   "source": [
    "spirits_list = [\n",
    "    'Absinthe',\n",
    "    'Agave Nectar',\n",
    "    'Akvavit',\n",
    "    'Almond Liqueur',\n",
    "    'Amaretto',\n",
    "    'Aperol',\n",
    "    'Apple Brandy',\n",
    "    'Applejack',\n",
    "    'Apricot Brandy',\n",
    "    'Averna',\n",
    "    'Bailey\\'s Irish Cream',\n",
    "    'Bénédictine',\n",
    "    'Bitters',\n",
    "    'Black Sambuca',\n",
    "    'Blue Curaçao',\n",
    "    'Bourbon',\n",
    "    'Brandy',\n",
    "    'Campari',\n",
    "    'Chambord',\n",
    "    'Cherry Brandy',\n",
    "    'Cider',\n",
    "    'Cinnamon Schnapps',\n",
    "    'Cocchi Americano',\n",
    "    'Cognac',\n",
    "    'Cointreau',\n",
    "    'Crème de Cacao',\n",
    "    'Crème de Cassis',\n",
    "    'Crème de Menthe',\n",
    "    'Crème de Violette',\n",
    "    'Curacao',\n",
    "    'Drambuie',\n",
    "    'Dry Vermouth',\n",
    "    'Elderflower Liqueur',\n",
    "    'Falernum',\n",
    "    'Fernet Branca',\n",
    "    'Galliano',\n",
    "    'Genever',\n",
    "    'Gin',\n",
    "    'Gold Rum',\n",
    "    'Goldschläger',\n",
    "    'Grand Marnier',\n",
    "    'Grapefruit Liqueur',\n",
    "    'Green Chartreuse',\n",
    "    'Grenadine',\n",
    "    'Hazelnut Liqueur',\n",
    "    'Hpnotiq',\n",
    "    'Irish Cream',\n",
    "    'Jägermeister',\n",
    "    'Kahlua',\n",
    "    'Lemon Juice',\n",
    "    'Lemoncello',\n",
    "    'Lillet',\n",
    "    'Lime Juice',\n",
    "    'Maraschino Liqueur',\n",
    "    'Mezcal',\n",
    "    'Midori',\n",
    "    'Mint Leaves',\n",
    "    'Nutmeg',\n",
    "    'Orange Bitters',\n",
    "    'Orange Curacao',\n",
    "    'Orange Flower Water',\n",
    "    'Orange Juice',\n",
    "    'Orgeat Syrup',\n",
    "    'Overproof Rum',\n",
    "    'Peach Bitters',\n",
    "    'Peach Liqueur',\n",
    "    'Peppermint Schnapps',\n",
    "    'Pernod',\n",
    "    'Peychaud\\'s Bitters',\n",
    "    'Pimm\\'s No. 1',\n",
    "    'Pineapple Juice',\n",
    "    'Port',\n",
    "    'Prosecco',\n",
    "    'Pumpkin Liqueur',\n",
    "    'Raspberry Liqueur',\n",
    "    'Red Wine',\n",
    "    'Rhum Agricole',\n",
    "    'Rose Water',\n",
    "    'Rum',\n",
    "    'Rye Whiskey',\n",
    "    'Sake',\n",
    "    'Sambuca',\n",
    "    'Scotch',\n",
    "    'Sherry',\n",
    "    'Simple Syrup',\n",
    "    'Sloe Gin',\n",
    "    'Smoked Paprika',\n",
    "    'Southern Comfort',\n",
    "    'Sparkling Wine',\n",
    "    'Spiced Rum',\n",
    "    'St. Germain',\n",
    "    'Strawberry Liqueur',\n",
    "    'Sweet and Sour Mix',\n",
    "    'Sweet Vermouth',\n",
    "    'Tabasco Sauce',\n",
    "    'Tequila',\n",
    "    'Tomato Juice',\n",
    "    'Triple Sec',\n",
    "    'Vanilla Liqueur',\n",
    "    'Vanilla Syrup',\n",
    "    'Vermouth',\n",
    "    'Vodka',\n",
    "    'Whiskey',\n",
    "    'White Rum',\n",
    "    'White Wine',\n",
    "    'Yellow Chartreuse'\n",
    "]\n",
    "\n"
   ]
  },
  {
   "cell_type": "code",
   "execution_count": 7,
   "id": "b48529a5",
   "metadata": {},
   "outputs": [],
   "source": [
    "# Create a pandas dataframe with the list of spirits\n",
    "df = pd.DataFrame(spirits_list, columns = [\"liquor\"])"
   ]
  },
  {
   "cell_type": "code",
   "execution_count": 8,
   "id": "3984122b",
   "metadata": {},
   "outputs": [],
   "source": [
    "import numpy as np\n",
    "# Add a column to the dataframe called \"amount\" and generate a random number between 1 and 1000 for each row\n",
    "df[\"amount\"] = np.random.randint(1, 1000, df.shape[0])\n"
   ]
  },
  {
   "cell_type": "code",
   "execution_count": 9,
   "id": "f34f73f1",
   "metadata": {},
   "outputs": [
    {
     "data": {
      "text/html": [
       "<div>\n",
       "<style scoped>\n",
       "    .dataframe tbody tr th:only-of-type {\n",
       "        vertical-align: middle;\n",
       "    }\n",
       "\n",
       "    .dataframe tbody tr th {\n",
       "        vertical-align: top;\n",
       "    }\n",
       "\n",
       "    .dataframe thead th {\n",
       "        text-align: right;\n",
       "    }\n",
       "</style>\n",
       "<table border=\"1\" class=\"dataframe\">\n",
       "  <thead>\n",
       "    <tr style=\"text-align: right;\">\n",
       "      <th></th>\n",
       "      <th>liquor</th>\n",
       "      <th>amount_in_oz</th>\n",
       "    </tr>\n",
       "  </thead>\n",
       "  <tbody>\n",
       "    <tr>\n",
       "      <th>0</th>\n",
       "      <td>Absinthe</td>\n",
       "      <td>991</td>\n",
       "    </tr>\n",
       "    <tr>\n",
       "      <th>1</th>\n",
       "      <td>Agave Nectar</td>\n",
       "      <td>92</td>\n",
       "    </tr>\n",
       "    <tr>\n",
       "      <th>2</th>\n",
       "      <td>Akvavit</td>\n",
       "      <td>327</td>\n",
       "    </tr>\n",
       "    <tr>\n",
       "      <th>3</th>\n",
       "      <td>Almond Liqueur</td>\n",
       "      <td>876</td>\n",
       "    </tr>\n",
       "    <tr>\n",
       "      <th>4</th>\n",
       "      <td>Amaretto</td>\n",
       "      <td>902</td>\n",
       "    </tr>\n",
       "    <tr>\n",
       "      <th>...</th>\n",
       "      <td>...</td>\n",
       "      <td>...</td>\n",
       "    </tr>\n",
       "    <tr>\n",
       "      <th>101</th>\n",
       "      <td>Vodka</td>\n",
       "      <td>893</td>\n",
       "    </tr>\n",
       "    <tr>\n",
       "      <th>102</th>\n",
       "      <td>Whiskey</td>\n",
       "      <td>292</td>\n",
       "    </tr>\n",
       "    <tr>\n",
       "      <th>103</th>\n",
       "      <td>White Rum</td>\n",
       "      <td>631</td>\n",
       "    </tr>\n",
       "    <tr>\n",
       "      <th>104</th>\n",
       "      <td>White Wine</td>\n",
       "      <td>352</td>\n",
       "    </tr>\n",
       "    <tr>\n",
       "      <th>105</th>\n",
       "      <td>Yellow Chartreuse</td>\n",
       "      <td>181</td>\n",
       "    </tr>\n",
       "  </tbody>\n",
       "</table>\n",
       "<p>106 rows × 2 columns</p>\n",
       "</div>"
      ],
      "text/plain": [
       "                liquor  amount_in_oz\n",
       "0             Absinthe           991\n",
       "1         Agave Nectar            92\n",
       "2              Akvavit           327\n",
       "3       Almond Liqueur           876\n",
       "4             Amaretto           902\n",
       "..                 ...           ...\n",
       "101              Vodka           893\n",
       "102            Whiskey           292\n",
       "103          White Rum           631\n",
       "104         White Wine           352\n",
       "105  Yellow Chartreuse           181\n",
       "\n",
       "[106 rows x 2 columns]"
      ]
     },
     "execution_count": 9,
     "metadata": {},
     "output_type": "execute_result"
    }
   ],
   "source": [
    "# Change the name of the \"amount\" columns to \"amount_in_oz\"\n",
    "df.rename(columns = {\"amount\": \"amount_in_oz\"}, inplace = True)\n",
    "df"
   ]
  },
  {
   "cell_type": "code",
   "execution_count": 10,
   "id": "99246a30",
   "metadata": {},
   "outputs": [],
   "source": [
    "llm = ChatOpenAI(model_name = \"gpt-3.5-turbo\", max_tokens = 750, temperature = 0.7, top_p = 0.9, frequency_penalty = 0.5, presence_penalty = 0.5,\\\n",
    "            openai_api_key = openai.api_key, openai_organization =  openai.organization)\n"
   ]
  },
  {
   "cell_type": "code",
   "execution_count": 13,
   "id": "374d5c66",
   "metadata": {},
   "outputs": [],
   "source": [
    "# Export the dataframe to a csv file\n",
    "df.to_csv(\"liquor_amounts.csv\", index = False)\n",
    "\n",
    "from langchain.agents import create_csv_agent"
   ]
  },
  {
   "cell_type": "code",
   "execution_count": 14,
   "id": "a3eca36d",
   "metadata": {},
   "outputs": [],
   "source": [
    "# Create the agent using the csv file\n",
    "agent = create_csv_agent(llm, \"liquor_amounts.csv\", verbose = True)\n"
   ]
  },
  {
   "cell_type": "code",
   "execution_count": 15,
   "id": "204c62d3",
   "metadata": {},
   "outputs": [],
   "source": [
    "from langchain.output_parsers import PydanticOutputParser\n",
    "from pydantic import BaseModel, Field, validator\n",
    "from typing import List"
   ]
  },
  {
   "cell_type": "code",
   "execution_count": 18,
   "id": "e13f3099",
   "metadata": {},
   "outputs": [
    {
     "name": "stdout",
     "output_type": "stream",
     "text": [
      "\n",
      "\n",
      "\u001b[1m> Entering new AgentExecutor chain...\u001b[0m\n",
      "\u001b[32;1m\u001b[1;3mThought: We need to select the 'liquor' and 'amount_in_oz' columns, convert the amount to ml, and return the result as a list.\n",
      "Action: python_repl_ast\n",
      "Action Input:\n",
      "```\n",
      "df['amount_in_ml'] = df['amount_in_oz'] * 29.5735\n",
      "result = df[['liquor', 'amount_in_ml']].values.tolist()\n",
      "```\u001b[0m\n",
      "Observation: \u001b[36;1m\u001b[1;3m\u001b[0m\n",
      "Thought:\u001b[32;1m\u001b[1;3mWe have created a new column 'amount_in_ml' by multiplying the 'amount_in_oz' column by 29.5735 to convert it to ml. We then selected the 'liquor' and 'amount_in_ml' columns using double brackets and converted the result to a list using the .values.tolist() method.\n",
      "Action: python_repl_ast\n",
      "Action Input:\n",
      "```\n",
      "result\n",
      "```\u001b[0m\n",
      "Observation: \u001b[36;1m\u001b[1;3m[['Absinthe', 29307.338499999998], ['Agave Nectar', 2720.7619999999997], ['Akvavit', 9670.5345], ['Almond Liqueur', 25906.386], ['Amaretto', 26675.297], ['Aperol', 14757.1765], ['Apple Brandy', 22327.9925], ['Applejack', 8428.4475], ['Apricot Brandy', 3371.379], ['Averna', 13071.487], [\"Bailey's Irish Cream\", 20524.009], ['Bénédictine', 15348.646499999999], ['Bitters', 19755.097999999998], ['Black Sambuca', 8812.903], ['Blue Curaçao', 4997.9214999999995], ['Bourbon', 4317.731], ['Brandy', 23333.4915], ['Campari', 4909.201], ['Chambord', 5471.0975], ['Cherry Brandy', 11385.7975], ['Cider', 21677.3755], ['Cinnamon Schnapps', 11267.503499999999], ['Cocchi Americano', 21529.507999999998], ['Cognac', 15585.2345], ['Cointreau', 13396.7955], ['Crème de Cacao', 21825.243], ['Crème de Cassis', 18779.1725], ['Crème de Menthe', 24782.593], ['Crème de Violette', 19045.334], ['Curacao', 13722.104], ['Drambuie', 24605.152], ['Dry Vermouth', 22120.978], ['Elderflower Liqueur', 9670.5345], ['Falernum', 4761.3335], ['Fernet Branca', 7156.787], ['Galliano', 22889.889], ['Genever', 27651.2225], ['Gin', 266.1615], ['Gold Rum', 24693.872499999998], ['Goldschläger', 25019.181], ['Grand Marnier', 7393.375], ['Grapefruit Liqueur', 20583.156], ['Green Chartreuse', 946.352], ['Grenadine', 2572.8945], ['Hazelnut Liqueur', 2691.1884999999997], ['Hpnotiq', 26793.591], ['Irish Cream', 2927.7765], ['Jägermeister', 2188.439], ['Kahlua', 1005.499], ['Lemon Juice', 12894.046], ['Lemoncello', 19222.774999999998], ['Lillet', 9226.931999999999], ['Lime Juice', 19163.628], ['Maraschino Liqueur', 16087.984], ['Mezcal', 5885.126499999999], ['Midori', 17773.6735], ['Mint Leaves', 11178.783], ['Nutmeg', 22653.301], ['Orange Bitters', 20376.141499999998], ['Orange Curacao', 9345.226], ['Orange Flower Water', 10439.4455], ['Orange Juice', 23865.8145], ['Orgeat Syrup', 24368.564], ['Overproof Rum', 20819.744], ['Peach Bitters', 18720.0255], ['Peach Liqueur', 12450.4435], ['Peppermint Schnapps', 16531.5865], ['Pernod', 1715.263], [\"Peychaud's Bitters\", 9493.093499999999], [\"Pimm's No. 1\", 13574.236499999999], ['Pineapple Juice', 26764.017499999998], ['Port', 5500.671], ['Prosecco', 25728.945], ['Pumpkin Liqueur', 739.3375], ['Raspberry Liqueur', 22949.036], ['Red Wine', 9079.0645], ['Rhum Agricole', 6831.4785], ['Rose Water', 21588.655], ['Rum', 29484.7795], ['Rye Whiskey', 8694.609], ['Sake', 14638.8825], ['Sambuca', 1596.969], ['Scotch', 26349.9885], ['Sherry', 27946.9575], ['Simple Syrup', 23274.3445], ['Sloe Gin', 2129.292], ['Smoked Paprika', 22623.7275], ['Southern Comfort', 6417.4495], ['Sparkling Wine', 4376.878], ['Spiced Rum', 15407.7935], ['St. Germain', 4169.8634999999995], ['Strawberry Liqueur', 1892.704], ['Sweet and Sour Mix', 11237.93], ['Sweet Vermouth', 20524.009], ['Tabasco Sauce', 25019.181], ['Tequila', 1360.3809999999999], ['Tomato Juice', 15851.395999999999], ['Triple Sec', 9197.3585], ['Vanilla Liqueur', 5618.965], ['Vanilla Syrup', 12746.1785], ['Vermouth', 2395.4535], ['Vodka', 26409.1355], ['Whiskey', 8635.462], ['White Rum', 18660.8785], ['White Wine', 10409.872], ['Yellow Chartreuse', 5352.8035]]\u001b[0m\n",
      "Thought:\u001b[32;1m\u001b[1;3mWe have successfully returned a list of spirits and their amounts in ml.\n",
      "Final Answer: [['Absinthe', 29307.338499999998], ['Agave Nectar', 2720.7619999999997], ['Akvavit', 9670.5345], ['Almond Liqueur', 25906.386], ['Amaretto', 26675.297], ['Aperol', 14757.1765], ['Apple Brandy', 22327.9925], ['Applejack', 8428.4475], ['Apricot Brandy', 3371.379], ['Averna', 13071.487], [\"Bailey's Irish Cream\", 20524.009], ['Bénédictine', 15348.646499999999], ['Bitters', 19755.097999999998], ['Black Sambuca', 8812.903], ['Blue Curaçao', 4997.9214999999995], ['Bourbon',...]]\u001b[0m\n",
      "\n",
      "\u001b[1m> Finished chain.\u001b[0m\n"
     ]
    }
   ],
   "source": [
    "class SpiritsList(BaseModel):\n",
    "    spirits: List[str] = Field(description = \"A list of spirits\")\n",
    "    amounts: List[int] = Field(description = \"A list of amounts in oz\")\n",
    "\n",
    "    \n",
    "spirits_query = \"Return a list of spirits in the .csv file and their amounts in ml.  You will need to convert\\\n",
    "                the amounts in oz to ml.\"\n",
    "\n",
    "parser = PydanticOutputParser(pydantic_object=SpiritsList, query=spirits_query)\n",
    "\n",
    "spirits_and_amounts = agent.run(input = \"Return a list of spirits and their amounts in ml\", parser=parser)\n",
    "\n",
    "\n",
    "     "
   ]
  },
  {
   "cell_type": "code",
   "execution_count": 15,
   "id": "bb30b827",
   "metadata": {},
   "outputs": [
    {
     "data": {
      "text/plain": [
       "'[(\\'Absinthe\\', 537), (\\'Agave Nectar\\', 941), (\\'Akvavit\\', 940), (\\'Almond Liqueur\\', 653), (\\'Amaretto\\', 741), (\\'Aperol\\', 751), (\\'Apple Brandy\\', 872), (\\'Applejack\\', 903), (\\'Apricot Brandy\\', 164), (\\'Averna\\', 372), (\"Bailey\\'s Irish Cream\", 913...)]'"
      ]
     },
     "execution_count": 15,
     "metadata": {},
     "output_type": "execute_result"
    }
   ],
   "source": [
    "spirits_and_amounts"
   ]
  },
  {
   "cell_type": "code",
   "execution_count": 19,
   "id": "de9140c2",
   "metadata": {},
   "outputs": [
    {
     "name": "stdout",
     "output_type": "stream",
     "text": [
      "Recipe Name: Havana Sunset\n",
      "\n",
      "Ingredients:\n",
      "- 1 oz rum\n",
      "- 1 oz apricot brandy\n",
      "- 1/2 oz amaretto\n",
      "- 1/2 oz agave nectar\n",
      "- 1/4 oz absinthe\n",
      "- 1 oz orange juice\n",
      "- 1/2 oz lime juice\n",
      "- Splash of grenadine\n",
      "\n",
      "Instructions:\n",
      "1. In a cocktail shaker filled with ice, combine the rum, apricot brandy, amaretto, agave nectar, and absinthe.\n",
      "2. Shake well and strain into a tall glass filled with ice.\n",
      "3. Add the orange juice and lime juice to the glass and stir.\n",
      "4. Slowly pour in a splash of grenadine to create a sunset effect.\n",
      "5. Garnish with a slice of orange or lime.\n",
      "\n",
      "Enjoy your tropical Havana Sunset cocktail that pairs perfectly with Cuban cuisine!\n"
     ]
    }
   ],
   "source": [
    "print(chain.run(liquor = \"rum\", cocktail_type = \"craft\", cuisine = \"cuban\", theme = \"summer\", spirits_and_amounts = spirits_and_amounts))"
   ]
  },
  {
   "cell_type": "code",
   "execution_count": null,
   "id": "1693d512",
   "metadata": {},
   "outputs": [],
   "source": []
  }
 ],
 "metadata": {
  "kernelspec": {
   "display_name": "py39",
   "language": "python",
   "name": "python3"
  },
  "language_info": {
   "codemirror_mode": {
    "name": "ipython",
    "version": 3
   },
   "file_extension": ".py",
   "mimetype": "text/x-python",
   "name": "python",
   "nbconvert_exporter": "python",
   "pygments_lexer": "ipython3",
   "version": "3.9.15"
  }
 },
 "nbformat": 4,
 "nbformat_minor": 5
}
