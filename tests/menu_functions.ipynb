{
 "cells": [
  {
   "cell_type": "code",
   "execution_count": 1,
   "metadata": {},
   "outputs": [
    {
     "data": {
      "text/plain": [
       "True"
      ]
     },
     "execution_count": 1,
     "metadata": {},
     "output_type": "execute_result"
    }
   ],
   "source": [
    "## Testing different functions to generate cocktails based on a menu or menus that the user has uploaded\n",
    "\n",
    "import pandas as pd\n",
    "import openai\n",
    "import os\n",
    "from dotenv import load_dotenv\n",
    "load_dotenv()"
   ]
  },
  {
   "cell_type": "code",
   "execution_count": null,
   "metadata": {},
   "outputs": [],
   "source": [
    "#  Once we have the menu(s), we need a way to consistently feed the model the information\n",
    "#  We also need to check if they have uploaded an inventory, in which case we take both into account\n",
    "#  For MVP purposes we will do each separate\n",
    "\n",
    "#  Basic \n",
    "# Podcasts -- Farmer 2 Farmer with Chris Blanchard\n",
    "# Nutrition Farming with Graeme Saite\n",
    "# Scrape all YouTube Channels related to #notill and the individual channels\n",
    "# Use Langchain to query over documents with sources\n",
    "# Set up an agent system to where it first checks with the notill library and\n",
    "# then if it can't find the answer it searches Google, Bing, etc.\n",
    "\n"
   ]
  }
 ],
 "metadata": {
  "kernelspec": {
   "display_name": "py39",
   "language": "python",
   "name": "python3"
  },
  "language_info": {
   "codemirror_mode": {
    "name": "ipython",
    "version": 3
   },
   "file_extension": ".py",
   "mimetype": "text/x-python",
   "name": "python",
   "nbconvert_exporter": "python",
   "pygments_lexer": "ipython3",
   "version": "3.9.15"
  },
  "orig_nbformat": 4
 },
 "nbformat": 4,
 "nbformat_minor": 2
}
