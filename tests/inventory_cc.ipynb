{
 "cells": [
  {
   "cell_type": "code",
   "execution_count": 1,
   "metadata": {},
   "outputs": [],
   "source": [
    "# A notebook to give proof of concept for the cocktail recipe app that is inventory \"aware\"\n",
    "# Initial Imports\n",
    "import pandas as pd\n",
    "import numpy as np\n",
    "import os\n",
    "import openai\n",
    "from dotenv import load_dotenv\n",
    "\n",
    "# Load .env enviroment variables\n",
    "load_dotenv()\n",
    "\n",
    "# Set OpenAI API key\n",
    "openai.api_key = os.getenv(\"OPENAI_API_KEY\")\n",
    "openai.organization = os.getenv(\"OPENAI_ORG\")\n"
   ]
  },
  {
   "cell_type": "code",
   "execution_count": 2,
   "metadata": {},
   "outputs": [
    {
     "data": {
      "text/html": [
       "<div>\n",
       "<style scoped>\n",
       "    .dataframe tbody tr th:only-of-type {\n",
       "        vertical-align: middle;\n",
       "    }\n",
       "\n",
       "    .dataframe tbody tr th {\n",
       "        vertical-align: top;\n",
       "    }\n",
       "\n",
       "    .dataframe thead th {\n",
       "        text-align: right;\n",
       "    }\n",
       "</style>\n",
       "<table border=\"1\" class=\"dataframe\">\n",
       "  <thead>\n",
       "    <tr style=\"text-align: right;\">\n",
       "      <th></th>\n",
       "      <th>Name</th>\n",
       "      <th>Quantity</th>\n",
       "      <th>Volume per Unit (ml)</th>\n",
       "      <th>Cost per Unit</th>\n",
       "      <th>Cost per ml</th>\n",
       "    </tr>\n",
       "  </thead>\n",
       "  <tbody>\n",
       "    <tr>\n",
       "      <th>0</th>\n",
       "      <td>Vodka</td>\n",
       "      <td>6</td>\n",
       "      <td>750</td>\n",
       "      <td>51.758815</td>\n",
       "      <td>0.069012</td>\n",
       "    </tr>\n",
       "    <tr>\n",
       "      <th>1</th>\n",
       "      <td>Gin</td>\n",
       "      <td>2</td>\n",
       "      <td>1000</td>\n",
       "      <td>20.383485</td>\n",
       "      <td>0.020383</td>\n",
       "    </tr>\n",
       "    <tr>\n",
       "      <th>2</th>\n",
       "      <td>Rum</td>\n",
       "      <td>1</td>\n",
       "      <td>1000</td>\n",
       "      <td>75.476875</td>\n",
       "      <td>0.075477</td>\n",
       "    </tr>\n",
       "    <tr>\n",
       "      <th>3</th>\n",
       "      <td>Tequila</td>\n",
       "      <td>9</td>\n",
       "      <td>750</td>\n",
       "      <td>43.807963</td>\n",
       "      <td>0.058411</td>\n",
       "    </tr>\n",
       "    <tr>\n",
       "      <th>4</th>\n",
       "      <td>Whiskey</td>\n",
       "      <td>5</td>\n",
       "      <td>750</td>\n",
       "      <td>90.563148</td>\n",
       "      <td>0.120751</td>\n",
       "    </tr>\n",
       "  </tbody>\n",
       "</table>\n",
       "</div>"
      ],
      "text/plain": [
       "      Name  Quantity  Volume per Unit (ml)  Cost per Unit  Cost per ml\n",
       "0    Vodka         6                   750      51.758815     0.069012\n",
       "1      Gin         2                  1000      20.383485     0.020383\n",
       "2      Rum         1                  1000      75.476875     0.075477\n",
       "3  Tequila         9                   750      43.807963     0.058411\n",
       "4  Whiskey         5                   750      90.563148     0.120751"
      ]
     },
     "execution_count": 2,
     "metadata": {},
     "output_type": "execute_result"
    }
   ],
   "source": [
    "new_df = pd.read_csv(\"inventory.csv\")\n",
    "new_df.head()"
   ]
  },
  {
   "cell_type": "code",
   "execution_count": 3,
   "metadata": {},
   "outputs": [],
   "source": [
    "# Drop the \"Cost per ml\" column\n",
    "new_df = new_df.drop(columns=[\"Cost per ml\"])"
   ]
  },
  {
   "cell_type": "code",
   "execution_count": 5,
   "metadata": {},
   "outputs": [],
   "source": [
    "# Add the \"Cost per ml\" column back in with the correct values\n",
    "new_df[\"Cost per ml\"] = new_df[\"Cost per Unit\"] / new_df[\"Volume per Unit (ml)\"]"
   ]
  },
  {
   "cell_type": "code",
   "execution_count": 7,
   "metadata": {},
   "outputs": [
    {
     "data": {
      "text/html": [
       "<div>\n",
       "<style scoped>\n",
       "    .dataframe tbody tr th:only-of-type {\n",
       "        vertical-align: middle;\n",
       "    }\n",
       "\n",
       "    .dataframe tbody tr th {\n",
       "        vertical-align: top;\n",
       "    }\n",
       "\n",
       "    .dataframe thead th {\n",
       "        text-align: right;\n",
       "    }\n",
       "</style>\n",
       "<table border=\"1\" class=\"dataframe\">\n",
       "  <thead>\n",
       "    <tr style=\"text-align: right;\">\n",
       "      <th></th>\n",
       "      <th>Name</th>\n",
       "      <th>Quantity</th>\n",
       "      <th>Volume per Unit (ml)</th>\n",
       "      <th>Cost per Unit</th>\n",
       "      <th>Cost per ml</th>\n",
       "      <th>Cost per oz</th>\n",
       "    </tr>\n",
       "  </thead>\n",
       "  <tbody>\n",
       "    <tr>\n",
       "      <th>0</th>\n",
       "      <td>Vodka</td>\n",
       "      <td>6</td>\n",
       "      <td>750</td>\n",
       "      <td>51.758815</td>\n",
       "      <td>0.069012</td>\n",
       "      <td>2.040919</td>\n",
       "    </tr>\n",
       "    <tr>\n",
       "      <th>1</th>\n",
       "      <td>Gin</td>\n",
       "      <td>2</td>\n",
       "      <td>1000</td>\n",
       "      <td>20.383485</td>\n",
       "      <td>0.020383</td>\n",
       "      <td>0.602811</td>\n",
       "    </tr>\n",
       "    <tr>\n",
       "      <th>2</th>\n",
       "      <td>Rum</td>\n",
       "      <td>1</td>\n",
       "      <td>1000</td>\n",
       "      <td>75.476875</td>\n",
       "      <td>0.075477</td>\n",
       "      <td>2.232115</td>\n",
       "    </tr>\n",
       "    <tr>\n",
       "      <th>3</th>\n",
       "      <td>Tequila</td>\n",
       "      <td>9</td>\n",
       "      <td>750</td>\n",
       "      <td>43.807963</td>\n",
       "      <td>0.058411</td>\n",
       "      <td>1.727406</td>\n",
       "    </tr>\n",
       "    <tr>\n",
       "      <th>4</th>\n",
       "      <td>Whiskey</td>\n",
       "      <td>5</td>\n",
       "      <td>750</td>\n",
       "      <td>90.563148</td>\n",
       "      <td>0.120751</td>\n",
       "      <td>3.571026</td>\n",
       "    </tr>\n",
       "  </tbody>\n",
       "</table>\n",
       "</div>"
      ],
      "text/plain": [
       "      Name  Quantity  Volume per Unit (ml)  Cost per Unit  Cost per ml  \\\n",
       "0    Vodka         6                   750      51.758815     0.069012   \n",
       "1      Gin         2                  1000      20.383485     0.020383   \n",
       "2      Rum         1                  1000      75.476875     0.075477   \n",
       "3  Tequila         9                   750      43.807963     0.058411   \n",
       "4  Whiskey         5                   750      90.563148     0.120751   \n",
       "\n",
       "   Cost per oz  \n",
       "0     2.040919  \n",
       "1     0.602811  \n",
       "2     2.232115  \n",
       "3     1.727406  \n",
       "4     3.571026  "
      ]
     },
     "execution_count": 7,
     "metadata": {},
     "output_type": "execute_result"
    }
   ],
   "source": [
    "# Now add a \"Cost per oz\" column by dividing the \"Cost per ml\" column by 29.5735\n",
    "new_df[\"Cost per oz\"] = new_df[\"Cost per ml\"] * 29.5735\n",
    "\n",
    "new_df.head()"
   ]
  },
  {
   "cell_type": "code",
   "execution_count": 8,
   "metadata": {},
   "outputs": [],
   "source": [
    "# Export the new dataframe to a csv file\n",
    "new_df.to_csv(\"inventory.csv\", index=False)"
   ]
  },
  {
   "cell_type": "code",
   "execution_count": 5,
   "metadata": {},
   "outputs": [],
   "source": []
  },
  {
   "cell_type": "code",
   "execution_count": 28,
   "metadata": {},
   "outputs": [
    {
     "data": {
      "text/plain": [
       "[Document(page_content='ItemID: 1\\nName: Vodka\\nType: Spirit\\nQuantity: 6\\nVolume per Unit (ml): 750\\nCost per Unit: 51.758815405142514\\nCost per ml: 0.06901175387352335', metadata={'source': 'Vodka', 'row': 0}),\n",
       " Document(page_content='ItemID: 2\\nName: Gin\\nType: Spirit\\nQuantity: 2\\nVolume per Unit (ml): 1000\\nCost per Unit: 20.383484696146947\\nCost per ml: 0.020383484696146946', metadata={'source': 'Gin', 'row': 1}),\n",
       " Document(page_content='ItemID: 3\\nName: Rum\\nType: Spirit\\nQuantity: 1\\nVolume per Unit (ml): 1000\\nCost per Unit: 75.47687481439222\\nCost per ml: 0.07547687481439222', metadata={'source': 'Rum', 'row': 2}),\n",
       " Document(page_content='ItemID: 4\\nName: Tequila\\nType: Spirit\\nQuantity: 9\\nVolume per Unit (ml): 750\\nCost per Unit: 43.807963027050874\\nCost per ml: 0.05841061736940117', metadata={'source': 'Tequila', 'row': 3}),\n",
       " Document(page_content='ItemID: 5\\nName: Whiskey\\nType: Spirit\\nQuantity: 5\\nVolume per Unit (ml): 750\\nCost per Unit: 90.56314762228048\\nCost per ml: 0.12075086349637397', metadata={'source': 'Whiskey', 'row': 4})]"
      ]
     },
     "execution_count": 28,
     "metadata": {},
     "output_type": "execute_result"
    }
   ],
   "source": [
    "# Additional imports\n",
    "from langchain.embeddings.openai import OpenAIEmbeddings\n",
    "from langchain.vectorstores import Chroma\n",
    "from langchain.text_splitter import CharacterTextSplitter\n",
    "from langchain.llms import OpenAI\n",
    "from langchain.chains import ConversationalRetrievalChain\n",
    "from langchain.document_loaders.csv_loader import CSVLoader\n",
    "\n",
    "# Load the csv file into the CSVLoader\n",
    "loader = CSVLoader(file_path = \"inventory.csv\", source_column=\"Name\", csv_args={\"delimiter\": \",\"})\n",
    "data = loader.load()\n",
    "\n",
    "data[:5]"
   ]
  },
  {
   "cell_type": "code",
   "execution_count": 10,
   "metadata": {},
   "outputs": [
    {
     "name": "stderr",
     "output_type": "stream",
     "text": [
      "Using embedded DuckDB without persistence: data will be transient\n"
     ]
    }
   ],
   "source": [
    "# Create the embeddings\n",
    "embeddings = OpenAIEmbeddings()\n",
    "vectorstore = Chroma.from_documents(data, embeddings)"
   ]
  },
  {
   "cell_type": "code",
   "execution_count": 34,
   "metadata": {},
   "outputs": [],
   "source": [
    "from langchain.agents import create_csv_agent\n",
    "from langchain.agents import initialize_agent\n",
    "from langchain.agents import AgentType\n",
    "from langchain.agents import load_tools, Tool, tool"
   ]
  },
  {
   "cell_type": "code",
   "execution_count": 32,
   "metadata": {},
   "outputs": [],
   "source": [
    "from langchain.chat_models import ChatOpenAI\n",
    "\n",
    "llm = ChatOpenAI(model_name = 'gpt-3.5-turbo', temperature = 0.5)\n",
    "csv_agent = create_csv_agent(llm, \"inventory.csv\", verbose = True)\n"
   ]
  },
  {
   "cell_type": "code",
   "execution_count": 70,
   "metadata": {},
   "outputs": [],
   "source": [
    "from langchain.utilities import PythonREPL\n",
    "from langchain.chains import LLMMathChain\n",
    "\n",
    "# Create the Python REPL\n",
    "python_repl = PythonREPL()\n",
    "\n",
    "# Create the math chain\n",
    "math_chain = LLMMathChain(llm = llm, verbose = True)\n",
    "\n",
    "# Create the tools\n",
    "tools = [\n",
    "    Tool.from_function(\n",
    "        name = \"python_repl\",\n",
    "        description=\"A Python shell. Use this to execute python commands. Input should be a valid python command. If you want to see the output of a value, you should print it out with `print(...)`.\",\n",
    "        func=python_repl.run\n",
    "    ),\n",
    "    Tool.from_function(\n",
    "        name = \"Calculator\",\n",
    "        description=\"Useful for when you need to answer questions about math.\",\n",
    "        func=math_chain.run\n",
    "    )\n",
    "]"
   ]
  },
  {
   "cell_type": "code",
   "execution_count": 58,
   "metadata": {},
   "outputs": [
    {
     "data": {
      "text/plain": [
       "[Tool(name='python_repl', description='A Python shell. Use this to execute python commands. Input should be a valid python command. If you want to see the output of a value, you should print it out with `print(...)`.', args_schema=None, return_direct=False, verbose=False, callbacks=None, callback_manager=None, func=<bound method PythonREPL.run of PythonREPL(globals={}, locals={})>, coroutine=None),\n",
       " Tool(name='Calculator', description='Useful for when you need to answer questions about math.', args_schema=None, return_direct=False, verbose=False, callbacks=None, callback_manager=None, func=<bound method Chain.run of LLMMathChain(memory=None, callbacks=None, callback_manager=None, verbose=True, llm_chain=LLMChain(memory=None, callbacks=None, callback_manager=None, verbose=False, prompt=PromptTemplate(input_variables=['question'], output_parser=None, partial_variables={}, template='Translate a math problem into a expression that can be executed using Python\\'s numexpr library. Use the output of running this code to answer the question.\\n\\nQuestion: ${{Question with math problem.}}\\n```text\\n${{single line mathematical expression that solves the problem}}\\n```\\n...numexpr.evaluate(text)...\\n```output\\n${{Output of running the code}}\\n```\\nAnswer: ${{Answer}}\\n\\nBegin.\\n\\nQuestion: What is 37593 * 67?\\n\\n```text\\n37593 * 67\\n```\\n...numexpr.evaluate(\"37593 * 67\")...\\n```output\\n2518731\\n```\\nAnswer: 2518731\\n\\nQuestion: {question}\\n', template_format='f-string', validate_template=True), llm=ChatOpenAI(verbose=False, callbacks=None, callback_manager=None, client=<class 'openai.api_resources.chat_completion.ChatCompletion'>, model_name='gpt-3.5-turbo', temperature=0.5, model_kwargs={}, openai_api_key=None, openai_organization=None, request_timeout=None, max_retries=6, streaming=False, n=1, max_tokens=None), output_key='text'), llm=ChatOpenAI(verbose=False, callbacks=None, callback_manager=None, client=<class 'openai.api_resources.chat_completion.ChatCompletion'>, model_name='gpt-3.5-turbo', temperature=0.5, model_kwargs={}, openai_api_key=None, openai_organization=None, request_timeout=None, max_retries=6, streaming=False, n=1, max_tokens=None), prompt=PromptTemplate(input_variables=['question'], output_parser=None, partial_variables={}, template='Translate a math problem into a expression that can be executed using Python\\'s numexpr library. Use the output of running this code to answer the question.\\n\\nQuestion: ${{Question with math problem.}}\\n```text\\n${{single line mathematical expression that solves the problem}}\\n```\\n...numexpr.evaluate(text)...\\n```output\\n${{Output of running the code}}\\n```\\nAnswer: ${{Answer}}\\n\\nBegin.\\n\\nQuestion: What is 37593 * 67?\\n\\n```text\\n37593 * 67\\n```\\n...numexpr.evaluate(\"37593 * 67\")...\\n```output\\n2518731\\n```\\nAnswer: 2518731\\n\\nQuestion: {question}\\n', template_format='f-string', validate_template=True), input_key='question', output_key='answer')>, coroutine=None),\n",
       " Tool(name='CSV Agent', description=\"Useful for when you need to reference the user's inventory\", args_schema=None, return_direct=False, verbose=False, callbacks=None, callback_manager=None, func=<bound method Chain.run of AgentExecutor(memory=None, callbacks=None, callback_manager=None, verbose=True, agent=ZeroShotAgent(llm_chain=LLMChain(memory=None, callbacks=None, callback_manager=None, verbose=False, prompt=PromptTemplate(input_variables=['agent_scratchpad', 'input'], output_parser=None, partial_variables={'df': '|    |   ItemID | Name    | Type   |   Quantity |   Volume per Unit (ml) |   Cost per Unit |   Cost per ml |\\n|---:|---------:|:--------|:-------|-----------:|-----------------------:|----------------:|--------------:|\\n|  0 |        1 | Vodka   | Spirit |          6 |                    750 |         51.7588 |     0.0690118 |\\n|  1 |        2 | Gin     | Spirit |          2 |                   1000 |         20.3835 |     0.0203835 |\\n|  2 |        3 | Rum     | Spirit |          1 |                   1000 |         75.4769 |     0.0754769 |\\n|  3 |        4 | Tequila | Spirit |          9 |                    750 |         43.808  |     0.0584106 |\\n|  4 |        5 | Whiskey | Spirit |          5 |                    750 |         90.5631 |     0.120751  |'}, template='\\nYou are working with a pandas dataframe in Python. The name of the dataframe is `df`.\\nYou should use the tools below to answer the question posed of you:\\n\\npython_repl_ast: A Python shell. Use this to execute python commands. Input should be a valid python command. When using this tool, sometimes output is abbreviated - make sure it does not look abbreviated before using it in your answer.\\n\\nUse the following format:\\n\\nQuestion: the input question you must answer\\nThought: you should always think about what to do\\nAction: the action to take, should be one of [python_repl_ast]\\nAction Input: the input to the action\\nObservation: the result of the action\\n... (this Thought/Action/Action Input/Observation can repeat N times)\\nThought: I now know the final answer\\nFinal Answer: the final answer to the original input question\\n\\n\\nThis is the result of `print(df.head())`:\\n{df}\\n\\nBegin!\\nQuestion: {input}\\n{agent_scratchpad}', template_format='f-string', validate_template=True), llm=ChatOpenAI(verbose=False, callbacks=None, callback_manager=None, client=<class 'openai.api_resources.chat_completion.ChatCompletion'>, model_name='gpt-3.5-turbo', temperature=0.5, model_kwargs={}, openai_api_key=None, openai_organization=None, request_timeout=None, max_retries=6, streaming=False, n=1, max_tokens=None), output_key='text'), output_parser=MRKLOutputParser(), allowed_tools=['python_repl_ast']), tools=[PythonAstREPLTool(name='python_repl_ast', description='A Python shell. Use this to execute python commands. Input should be a valid python command. When using this tool, sometimes output is abbreviated - make sure it does not look abbreviated before using it in your answer.', args_schema=None, return_direct=False, verbose=False, callbacks=None, callback_manager=None, globals={}, locals={'df':     ItemID                 Name    Type  Quantity  Volume per Unit (ml)  \\\n",
       " 0        1                Vodka  Spirit         6                   750   \n",
       " 1        2                  Gin  Spirit         2                  1000   \n",
       " 2        3                  Rum  Spirit         1                  1000   \n",
       " 3        4              Tequila  Spirit         9                   750   \n",
       " 4        5              Whiskey  Spirit         5                   750   \n",
       " 5        6               Brandy  Spirit         6                   750   \n",
       " 6        7               Scotch  Spirit         1                   750   \n",
       " 7        8              Bourbon  Spirit         1                   750   \n",
       " 8        9               Cognac  Spirit         6                   750   \n",
       " 9       10             Absinthe  Spirit         2                  1000   \n",
       " 10      11                 Sake  Spirit         5                   750   \n",
       " 11      12                  Rye  Spirit         1                   750   \n",
       " 12      13               Mezcal  Spirit         5                  1000   \n",
       " 13      14             Amaretto  Spirit         8                  1000   \n",
       " 14      15              Baileys  Spirit         3                   750   \n",
       " 15      16              Campari  Spirit         8                  1000   \n",
       " 16      17            Cointreau  Spirit         7                   750   \n",
       " 17      18           Frangelico  Spirit         1                  1000   \n",
       " 18      19        Grand Marnier  Spirit         7                   750   \n",
       " 19      20         Jägermeister  Spirit         1                  1000   \n",
       " 20      21               Kahlúa  Spirit         3                  1000   \n",
       " 21      22           Limoncello  Spirit         5                   750   \n",
       " 22      23              Sambuca  Spirit         2                   750   \n",
       " 23      24     Southern Comfort  Spirit         6                   750   \n",
       " 24      25            Tia Maria  Spirit         5                   750   \n",
       " 25      26           Triple Sec  Spirit         2                  1000   \n",
       " 26      27                Pisco  Spirit         3                   750   \n",
       " 27      28                 Port  Spirit         3                   750   \n",
       " 28      29               Sherry  Spirit         3                   750   \n",
       " 29      30             Vermouth  Spirit         4                  1000   \n",
       " 30      31               Aperol  Spirit         9                  1000   \n",
       " 31      32              Bitters  Spirit         1                   750   \n",
       " 32      33           Chartreuse  Spirit         8                  1000   \n",
       " 33      34             Chambord  Spirit         1                   750   \n",
       " 34      35        Fernet Branca  Spirit         1                   750   \n",
       " 35      36             Galliano  Spirit         7                   750   \n",
       " 36      37         Goldschlager  Spirit         6                   750   \n",
       " 37      38               Malibu  Spirit         5                   750   \n",
       " 38      39               Midori  Spirit         2                  1000   \n",
       " 39      40       Peach Schnapps  Spirit         5                   750   \n",
       " 40      41  Peppermint Schnapps  Spirit         8                  1000   \n",
       " 41      42             Sloe Gin  Spirit         1                  1000   \n",
       " 42      43           St Germain  Spirit         8                  1000   \n",
       " 43      44               Umeshu  Spirit         9                   750   \n",
       " 44      45             Anisette  Spirit         8                  1000   \n",
       " 45      46              Aquavit  Spirit         6                  1000   \n",
       " 46      47           Becherovka  Spirit         1                  1000   \n",
       " 47      48          Bénédictine  Spirit         1                   750   \n",
       " 48      49       Crème de Cacao  Spirit         9                  1000   \n",
       " 49      50      Crème de Menthe  Spirit         6                  1000   \n",
       " \n",
       "     Cost per Unit  Cost per ml  \n",
       " 0       51.758815     0.069012  \n",
       " 1       20.383485     0.020383  \n",
       " 2       75.476875     0.075477  \n",
       " 3       43.807963     0.058411  \n",
       " 4       90.563148     0.120751  \n",
       " 5       79.540566     0.106054  \n",
       " 6       74.677705     0.099570  \n",
       " 7       60.446947     0.080596  \n",
       " 8       36.945975     0.049261  \n",
       " 9       55.857911     0.055858  \n",
       " 10      58.107784     0.077477  \n",
       " 11      74.234015     0.098979  \n",
       " 12      27.575927     0.027576  \n",
       " 13      60.932544     0.060933  \n",
       " 14      31.381249     0.041842  \n",
       " 15      89.855243     0.089855  \n",
       " 16      58.969307     0.078626  \n",
       " 17      90.941390     0.090941  \n",
       " 18      59.741731     0.079656  \n",
       " 19      93.851894     0.093852  \n",
       " 20      52.207566     0.052208  \n",
       " 21      32.308318     0.043078  \n",
       " 22      89.064492     0.118753  \n",
       " 23      48.434698     0.064580  \n",
       " 24      93.063186     0.124084  \n",
       " 25      89.418596     0.089419  \n",
       " 26      61.885152     0.082514  \n",
       " 27      42.698551     0.056931  \n",
       " 28      69.042843     0.092057  \n",
       " 29      61.820173     0.061820  \n",
       " 30      96.799427     0.096799  \n",
       " 31      34.630123     0.046173  \n",
       " 32      23.381895     0.023382  \n",
       " 33      49.907384     0.066543  \n",
       " 34      77.514631     0.103353  \n",
       " 35      83.466791     0.111289  \n",
       " 36      33.714444     0.044953  \n",
       " 37      34.541064     0.046055  \n",
       " 38      39.583707     0.039584  \n",
       " 39      38.756825     0.051676  \n",
       " 40      85.751620     0.085752  \n",
       " 41      42.932676     0.042933  \n",
       " 42      81.988854     0.081989  \n",
       " 43      52.157382     0.069543  \n",
       " 44      21.545065     0.021545  \n",
       " 45      74.885629     0.074886  \n",
       " 46      89.090554     0.089091  \n",
       " 47      33.673850     0.044898  \n",
       " 48      34.167472     0.034167  \n",
       " 49      67.236193     0.067236  }, sanitize_input=True)], return_intermediate_steps=False, max_iterations=15, max_execution_time=None, early_stopping_method='force', handle_parsing_errors=False)>, coroutine=None)]"
      ]
     },
     "execution_count": 58,
     "metadata": {},
     "output_type": "execute_result"
    }
   ],
   "source": [
    "tools"
   ]
  },
  {
   "cell_type": "code",
   "execution_count": 71,
   "metadata": {},
   "outputs": [],
   "source": [
    "agent = initialize_agent(tools, llm, agent = AgentType.STRUCTURED_CHAT_ZERO_SHOT_REACT_DESCRIPTION, verbose = True)"
   ]
  },
  {
   "cell_type": "code",
   "execution_count": 64,
   "metadata": {},
   "outputs": [],
   "source": [
    "liquors = df['Name'].values"
   ]
  },
  {
   "cell_type": "code",
   "execution_count": 65,
   "metadata": {},
   "outputs": [
    {
     "data": {
      "text/plain": [
       "array(['Vodka', 'Gin', 'Rum', 'Tequila', 'Whiskey', 'Brandy', 'Scotch',\n",
       "       'Bourbon', 'Cognac', 'Absinthe', 'Sake', 'Rye', 'Mezcal',\n",
       "       'Amaretto', 'Baileys', 'Campari', 'Cointreau', 'Frangelico',\n",
       "       'Grand Marnier', 'Jägermeister', 'Kahlúa', 'Limoncello', 'Sambuca',\n",
       "       'Southern Comfort', 'Tia Maria', 'Triple Sec', 'Pisco', 'Port',\n",
       "       'Sherry', 'Vermouth', 'Aperol', 'Bitters', 'Chartreuse',\n",
       "       'Chambord', 'Fernet Branca', 'Galliano', 'Goldschlager', 'Malibu',\n",
       "       'Midori', 'Peach Schnapps', 'Peppermint Schnapps', 'Sloe Gin',\n",
       "       'St Germain', 'Umeshu', 'Anisette', 'Aquavit', 'Becherovka',\n",
       "       'Bénédictine', 'Crème de Cacao', 'Crème de Menthe'], dtype=object)"
      ]
     },
     "execution_count": 65,
     "metadata": {},
     "output_type": "execute_result"
    }
   ],
   "source": [
    "liquors"
   ]
  },
  {
   "attachments": {},
   "cell_type": "markdown",
   "metadata": {},
   "source": []
  },
  {
   "cell_type": "code",
   "execution_count": 72,
   "metadata": {},
   "outputs": [
    {
     "name": "stdout",
     "output_type": "stream",
     "text": [
      "\n",
      "\n",
      "\u001b[1m> Entering new AgentExecutor chain...\u001b[0m\n",
      "\u001b[32;1m\u001b[1;3mQuestion: Would you like a cocktail recipe that includes all the liquors in your inventory?\n",
      "Thought: I will use the Cocktail tool to generate a recipe that includes all of the liquors in the inventory.\n",
      "Action:\n",
      "```\n",
      "{\n",
      "  \"action\": \"Cocktail\",\n",
      "  \"action_input\": \"all\"\n",
      "}\n",
      "```\n",
      "\u001b[0m\n",
      "Observation: Cocktail is not a valid tool, try another one.\n",
      "Thought:\u001b[32;1m\u001b[1;3mI will use the python_repl tool to create a cocktail recipe that includes all of the liquors in the inventory.\u001b[0m\n",
      "\n",
      "\u001b[1m> Finished chain.\u001b[0m\n"
     ]
    },
    {
     "data": {
      "text/plain": [
       "'I will use the python_repl tool to create a cocktail recipe that includes all of the liquors in the inventory.'"
      ]
     },
     "execution_count": 72,
     "metadata": {},
     "output_type": "execute_result"
    }
   ],
   "source": [
    "agent.run(f\"Can you help me create a cocktail from liquors {liquors} in my inventory?\")\n"
   ]
  },
  {
   "cell_type": "code",
   "execution_count": 18,
   "metadata": {},
   "outputs": [
    {
     "name": "stdout",
     "output_type": "stream",
     "text": [
      "\n",
      "\n",
      "\u001b[1m> Entering new LLMChain chain...\u001b[0m\n",
      "Prompt after formatting:\n",
      "\u001b[32;1m\u001b[1;3mGiven the following conversation and a follow up question, rephrase the follow up question to be a standalone question.\n",
      "\n",
      "Chat History:\n",
      "\n",
      "Human: Can you create a good cocktail using some ingredients from my inventory?\n",
      "Assistant: Sure! I can't really tell you what kind of cocktail to make, as that depends on your personal taste preferences. However, I can suggest that you try making a classic gin and tonic using the gin from your inventory. Alternatively, you could try making an Old Fashioned using the whiskey and bitters in your inventory. Cointreau can be used in many cocktails as a triple sec substitute or in Margaritas. It all depends on your taste.\n",
      "Human: How about one that uses the liquor that I have the most of in the inventory?\n",
      "Assistant: I'm sorry, I don't have access to your inventory or information about what cocktail you are interested in making. Please provide me with more details and I'll do my best to help you.\n",
      "Follow Up Input: Can you make me a craft cocktail using mezcal and one other liquor from my inventory?\n",
      "Standalone question:\u001b[0m\n",
      "\n",
      "\u001b[1m> Finished chain.\u001b[0m\n",
      "\n",
      "\n",
      "\u001b[1m> Entering new StuffDocumentsChain chain...\u001b[0m\n",
      "\n",
      "\n",
      "\u001b[1m> Entering new LLMChain chain...\u001b[0m\n",
      "Prompt after formatting:\n",
      "\u001b[32;1m\u001b[1;3mSystem: Use the following pieces of context to answer the users question. \n",
      "If you don't know the answer, just say that you don't know, don't try to make up an answer.\n",
      "----------------\n",
      "ItemID: 13\n",
      "Name: Mezcal\n",
      "Type: Spirit\n",
      "Quantity: 5\n",
      "Volume per Unit (ml): 1000\n",
      "Cost per Unit: 27.57592746154775\n",
      "Cost per ml: 0.027575927461547748\n",
      "\n",
      "ItemID: 4\n",
      "Name: Tequila\n",
      "Type: Spirit\n",
      "Quantity: 9\n",
      "Volume per Unit (ml): 750\n",
      "Cost per Unit: 43.807963027050874\n",
      "Cost per ml: 0.05841061736940117\n",
      "\n",
      "ItemID: 32\n",
      "Name: Bitters\n",
      "Type: Spirit\n",
      "Quantity: 1\n",
      "Volume per Unit (ml): 750\n",
      "Cost per Unit: 34.630122801429756\n",
      "Cost per ml: 0.04617349706857301\n",
      "\n",
      "ItemID: 27\n",
      "Name: Pisco\n",
      "Type: Spirit\n",
      "Quantity: 3\n",
      "Volume per Unit (ml): 750\n",
      "Cost per Unit: 61.885152469602005\n",
      "Cost per ml: 0.082513536626136\n",
      "Human: What kind of craft cocktail can be made using mezcal and one other liquor from my inventory?\u001b[0m\n",
      "\n",
      "\u001b[1m> Finished chain.\u001b[0m\n",
      "\n",
      "\u001b[1m> Finished chain.\u001b[0m\n"
     ]
    }
   ],
   "source": []
  },
  {
   "cell_type": "code",
   "execution_count": 19,
   "metadata": {},
   "outputs": [
    {
     "name": "stdout",
     "output_type": "stream",
     "text": [
      "I'm sorry, I am an AI language model and I don't have information about which craft cocktail you can make with Mezcal and another liquor from your inventory as it depends on personal preference and recipe expertise. However, you can search for cocktail recipes online or consult a mixologist for recommendations.\n"
     ]
    },
    {
     "data": {
      "text/plain": [
       "[None]"
      ]
     },
     "execution_count": 19,
     "metadata": {},
     "output_type": "execute_result"
    }
   ],
   "source": [
    "[print(result[\"answer\"])]"
   ]
  },
  {
   "cell_type": "code",
   "execution_count": null,
   "metadata": {},
   "outputs": [],
   "source": []
  },
  {
   "cell_type": "code",
   "execution_count": null,
   "metadata": {},
   "outputs": [],
   "source": []
  },
  {
   "cell_type": "code",
   "execution_count": null,
   "metadata": {},
   "outputs": [],
   "source": []
  }
 ],
 "metadata": {
  "kernelspec": {
   "display_name": "py39",
   "language": "python",
   "name": "python3"
  },
  "language_info": {
   "codemirror_mode": {
    "name": "ipython",
    "version": 3
   },
   "file_extension": ".py",
   "mimetype": "text/x-python",
   "name": "python",
   "nbconvert_exporter": "python",
   "pygments_lexer": "ipython3",
   "version": "3.9.15"
  },
  "orig_nbformat": 4
 },
 "nbformat": 4,
 "nbformat_minor": 2
}
