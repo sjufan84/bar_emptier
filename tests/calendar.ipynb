{
 "cells": [
  {
   "cell_type": "code",
   "execution_count": 4,
   "metadata": {},
   "outputs": [],
   "source": [
    "# A notebook to test interacting with Google Calendar API\n",
    "# Initial imports\n",
    "import os\n",
    "from dotenv import load_dotenv\n",
    "load_dotenv()\n",
    "import pandas as pd\n",
    "import os\n",
    "import streamlit as st\n",
    "from googleapiclient.discovery import build\n",
    "from google.oauth2 import service_account\n",
    "from dotenv import load_dotenv\n",
    "from dateutil.parser import parse\n"
   ]
  },
  {
   "cell_type": "code",
   "execution_count": 35,
   "metadata": {},
   "outputs": [],
   "source": [
    "credentials = service_account.Credentials.from_service_account_info(st.secrets[\"gcp_service_account\"])\n",
    "scoped_credentials = credentials.with_scopes(scopes=['https://www.googleapis.com/auth/calendar'])"
   ]
  },
  {
   "cell_type": "code",
   "execution_count": 36,
   "metadata": {},
   "outputs": [],
   "source": [
    "credentials.token"
   ]
  },
  {
   "cell_type": "code",
   "execution_count": 42,
   "metadata": {},
   "outputs": [
    {
     "data": {
      "text/plain": [
       "<googleapiclient.discovery.Resource at 0x2f4f4f8fa60>"
      ]
     },
     "execution_count": 42,
     "metadata": {},
     "output_type": "execute_result"
    }
   ],
   "source": [
    "# Build the service object for interacting with the Google Calendar API\n",
    "service = build('calendar', 'v3', credentials=credentials)\n",
    "service"
   ]
  },
  {
   "cell_type": "code",
   "execution_count": 43,
   "metadata": {},
   "outputs": [],
   "source": [
    "# Query the API for the busy / free times of a given calendar\n",
    "# The calendar ID can be found in the settings of the calendar\n",
    "# The timeMin and timeMax parameters are optional\n",
    "\n",
    "calendar_id = 'sjufan84@gmail.com'\n",
    "time_min = '2021-01-01T00:00:00Z'\n",
    "time_max = '2021-01-31T00:00:00Z'\n",
    "\n",
    "# Call the API and store the results in a variable called events_result\n",
    "events_result = service.events().list(calendarId=calendar_id, timeMin=time_min, timeMax=time_max, singleEvents=True, orderBy='startTime').execute()"
   ]
  },
  {
   "cell_type": "code",
   "execution_count": 55,
   "metadata": {},
   "outputs": [],
   "source": [
    "import pytz\n",
    "from datetime import datetime, timedelta\n",
    "from googleapiclient.errors import HttpError\n",
    "\n",
    "def find_available_time_slots(service, calendar_id, duration_minutes, start_time, end_time, timezone='UTC'):\n",
    "    now = datetime.now(pytz.timezone(timezone))\n",
    "    start_date = now.date()\n",
    "    end_date = start_date + timedelta(days=7)\n",
    "\n",
    "    start_time = datetime.strptime(start_time, '%H:%M').time()\n",
    "    end_time = datetime.strptime(end_time, '%H:%M').time()\n",
    "\n",
    "    freebusy_request = {\n",
    "        \"timeMin\": now.isoformat(),\n",
    "        \"timeMax\": (now + timedelta(days=7)).isoformat(),\n",
    "        \"timeZone\": timezone,\n",
    "        \"items\": [{\"id\": calendar_id}]\n",
    "    }\n",
    "\n",
    "    try:\n",
    "        freebusy_response = service.freebusy().query(body=freebusy_request).execute()\n",
    "\n",
    "        busy_periods = freebusy_response['calendars'][calendar_id]['busy']\n",
    "\n",
    "        available_slots = []\n",
    "        for i in range(7):\n",
    "            day_start = datetime.combine(start_date + timedelta(days=i), start_time, pytz.timezone(timezone))\n",
    "            day_end = datetime.combine(start_date + timedelta(days=i), end_time, pytz.timezone(timezone))\n",
    "            \n",
    "            prev_busy_end = day_start\n",
    "\n",
    "            for busy_period in busy_periods:\n",
    "                busy_start = datetime.fromisoformat(busy_period['start']).astimezone(pytz.timezone(timezone))\n",
    "                busy_end = datetime.fromisoformat(busy_period['end']).astimezone(pytz.timezone(timezone))\n",
    "\n",
    "                if busy_start.date() == day_start.date():\n",
    "                    free_slot_start = prev_busy_end\n",
    "                    free_slot_end = busy_start\n",
    "\n",
    "                    if (free_slot_end - free_slot_start).total_seconds() >= duration_minutes * 60:\n",
    "                        available_slots.append({\n",
    "                            \"start\": free_slot_start,\n",
    "                            \"end\": free_slot_end\n",
    "                        })\n",
    "\n",
    "                    prev_busy_end = busy_end\n",
    "            \n",
    "            if (day_end - prev_busy_end).total_seconds() >= duration_minutes * 60:\n",
    "                available_slots.append({\n",
    "                    \"start\": prev_busy_end,\n",
    "                    \"end\": day_end\n",
    "                })\n",
    "\n",
    "        return available_slots\n",
    "    except HttpError as error:\n",
    "        print(f\"An error occurred: {error}\")\n",
    "        return None\n",
    "\n",
    "\n"
   ]
  },
  {
   "cell_type": "code",
   "execution_count": 56,
   "metadata": {},
   "outputs": [
    {
     "name": "stdout",
     "output_type": "stream",
     "text": [
      "Available time slots:\n",
      "2023-05-09 09:00:00-07:53 - 2023-05-09 20:53:42-07:00\n",
      "2023-05-10 09:15:00-07:00 - 2023-05-10 12:00:00-07:00\n",
      "2023-05-10 13:00:00-07:00 - 2023-05-10 17:30:00-07:00\n",
      "2023-05-10 18:30:00-07:00 - 2023-05-10 19:30:00-07:00\n",
      "2023-05-11 09:15:00-07:00 - 2023-05-11 11:00:00-07:00\n",
      "2023-05-11 13:00:00-07:00 - 2023-05-11 17:30:00-07:00\n",
      "2023-05-11 18:30:00-07:00 - 2023-05-11 19:30:00-07:00\n",
      "2023-05-12 09:15:00-07:00 - 2023-05-12 17:30:00-07:00\n",
      "2023-05-12 18:30:00-07:00 - 2023-05-12 19:30:00-07:00\n",
      "2023-05-13 09:15:00-07:00 - 2023-05-13 17:30:00-07:00\n",
      "2023-05-13 18:30:00-07:00 - 2023-05-13 19:30:00-07:00\n",
      "2023-05-14 09:15:00-07:00 - 2023-05-14 17:30:00-07:00\n",
      "2023-05-14 18:30:00-07:00 - 2023-05-14 19:30:00-07:00\n",
      "2023-05-15 09:15:00-07:00 - 2023-05-15 17:30:00-07:00\n",
      "2023-05-15 18:30:00-07:00 - 2023-05-15 19:30:00-07:00\n"
     ]
    }
   ],
   "source": [
    "calendar_id = 'sjufan84@gmail.com'\n",
    "duration_minutes = 60\n",
    "start_time = '09:00'\n",
    "end_time = '17:00'\n",
    "timezone = 'America/Los_Angeles'  # Change this to the desired timezone\n",
    "service = service\n",
    "\n",
    "if service:\n",
    "    available_slots = find_available_time_slots(service, calendar_id, duration_minutes, start_time, end_time, timezone)\n",
    "    print(\"Available time slots:\")\n",
    "    for slot in available_slots:\n",
    "        print(f\"{slot['start']} - {slot['end']}\")\n",
    "\n"
   ]
  },
  {
   "cell_type": "code",
   "execution_count": null,
   "metadata": {},
   "outputs": [],
   "source": []
  }
 ],
 "metadata": {
  "kernelspec": {
   "display_name": "py39",
   "language": "python",
   "name": "python3"
  },
  "language_info": {
   "codemirror_mode": {
    "name": "ipython",
    "version": 3
   },
   "file_extension": ".py",
   "mimetype": "text/x-python",
   "name": "python",
   "nbconvert_exporter": "python",
   "pygments_lexer": "ipython3",
   "version": "3.9.15"
  },
  "orig_nbformat": 4
 },
 "nbformat": 4,
 "nbformat_minor": 2
}
