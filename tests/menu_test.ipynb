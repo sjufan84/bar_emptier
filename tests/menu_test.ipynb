{
 "cells": [
  {
   "cell_type": "code",
   "execution_count": 1,
   "metadata": {},
   "outputs": [],
   "source": [
    "import streamlit as st\n",
    "import os\n",
    "import requests\n",
    "from utils.save_recipes import save_recipe_as_pdf, get_recipe_pdf_download_link\n",
    "from dotenv import load_dotenv\n",
    "load_dotenv()\n",
    "import openai\n",
    "from google.oauth2 import service_account\n",
    "from spellchecker import SpellChecker\n",
    "# Set your API key\n",
    "openai.api_key = os.getenv(\"OPENAI_API_KEY\")\n",
    "openai.organization = os.getenv(\"OPENAI_ORG\")\n",
    "\n",
    "credentials = service_account.Credentials.from_service_account_info(st.secrets[\"gcp_service_account\"])"
   ]
  },
  {
   "cell_type": "code",
   "execution_count": 2,
   "metadata": {},
   "outputs": [],
   "source": [
    "from google.cloud import vision\n",
    "\n",
    "def detect_document(uploaded_image):\n",
    "\n",
    "    client = vision.ImageAnnotatorClient(credentials=credentials)\n",
    "\n",
    "    #with io.BytesIO(uploaded_image) as image_file:\n",
    "    #    content = image_file\n",
    "\n",
    "    #image = vision.Image(uploaded_image)\n",
    "\n",
    "    response = client.document_text_detection(image=uploaded_image)\n",
    "\n",
    "    for page in response.full_text_annotation.pages:\n",
    "        for block in page.blocks:\n",
    "            print('\\nBlock confidence: {}\\n'.format(block.confidence))\n",
    "\n",
    "            for paragraph in block.paragraphs:\n",
    "                print('Paragraph confidence: {}'.format(\n",
    "                    paragraph.confidence))\n",
    "\n",
    "                for word in paragraph.words:\n",
    "                    word_text = ''.join([\n",
    "                        symbol.text for symbol in word.symbols\n",
    "                    ])\n",
    "                    print('Word text: {} (confidence: {})'.format(\n",
    "                        word_text, word.confidence))\n",
    "\n",
    "                    for symbol in word.symbols:\n",
    "                        print('\\tSymbol: {} (confidence: {})'.format(\n",
    "                            symbol.text, symbol.confidence))\n",
    "    \n",
    "    response_text = response.full_text_annotation.text\n",
    "\n",
    "\n",
    "    if response.error.message:\n",
    "        raise Exception(\n",
    "            '{}\\nFor more info on error messages, check: '\n",
    "            'https://cloud.google.com/apis/design/errors'.format(\n",
    "                response.error.message))\n",
    "    \n",
    "    return response_text"
   ]
  },
  {
   "cell_type": "code",
   "execution_count": null,
   "metadata": {},
   "outputs": [],
   "source": []
  }
 ],
 "metadata": {
  "kernelspec": {
   "display_name": "py39",
   "language": "python",
   "name": "python3"
  },
  "language_info": {
   "codemirror_mode": {
    "name": "ipython",
    "version": 3
   },
   "file_extension": ".py",
   "mimetype": "text/x-python",
   "name": "python",
   "nbconvert_exporter": "python",
   "pygments_lexer": "ipython3",
   "version": "3.9.15"
  },
  "orig_nbformat": 4
 },
 "nbformat": 4,
 "nbformat_minor": 2
}
